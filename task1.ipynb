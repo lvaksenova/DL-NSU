{
 "cells": [
  {
   "cell_type": "markdown",
   "metadata": {},
   "source": [
    "1. Вспомнить всё: if"
   ]
  },
  {
   "cell_type": "code",
   "execution_count": 4,
   "metadata": {},
   "outputs": [
    {
     "name": "stdout",
     "output_type": "stream",
     "text": [
      "ХОЛОДНО\n"
     ]
    }
   ],
   "source": [
    "temp = float(input())\n",
    "if temp < 15.5:\n",
    "    print(\"ХОЛОДНО\")\n",
    "elif temp > 28:\n",
    "    print(\"ЖАРКО\")\n",
    "else:\n",
    "    print(\"НОРМАЛЬНО\")"
   ]
  },
  {
   "cell_type": "markdown",
   "metadata": {},
   "source": [
    "2. Найди кота"
   ]
  },
  {
   "cell_type": "code",
   "execution_count": 52,
   "metadata": {},
   "outputs": [
    {
     "name": "stdout",
     "output_type": "stream",
     "text": [
      "МЯУ\n"
     ]
    }
   ],
   "source": [
    "n = int(input())\n",
    "strs = []\n",
    "for _ in range(n):\n",
    "    strs.append(input())\n",
    "\n",
    "for val in strs:\n",
    "    if \"Кот\" in val or \"кот\" in val:\n",
    "        print(\"МЯУ\")\n",
    "        break\n",
    "else:\n",
    "    print(\"НЕТ\")"
   ]
  },
  {
   "cell_type": "markdown",
   "metadata": {},
   "source": [
    "3. Слова и буквы"
   ]
  },
  {
   "cell_type": "code",
   "execution_count": 51,
   "metadata": {},
   "outputs": [
    {
     "name": "stdout",
     "output_type": "stream",
     "text": [
      "ДА\n"
     ]
    }
   ],
   "source": [
    "dict_words = {}\n",
    "while \"стоп\" not in dict_words:\n",
    "    key = input()\n",
    "    dict_words[key] = len(key)\n",
    "else:\n",
    "    dict_words.pop(\"стоп\")\n",
    "\n",
    "short = min(dict_words, key=dict_words.get)\n",
    "long = max(dict_words, key=dict_words.get)\n",
    "\n",
    "for i in short:\n",
    "    if i not in long:\n",
    "        print(\"НЕТ\")\n",
    "        break\n",
    "else:\n",
    "    print(\"ДА\")"
   ]
  },
  {
   "cell_type": "markdown",
   "metadata": {},
   "source": [
    "4. Список покупок"
   ]
  },
  {
   "cell_type": "code",
   "execution_count": 56,
   "metadata": {},
   "outputs": [
    {
     "name": "stdout",
     "output_type": "stream",
     "text": [
      "картину\n",
      "корзину\n",
      "картонку\n",
      "маленькую собаченку\n"
     ]
    }
   ],
   "source": [
    "n = int(input())\n",
    "goods = []\n",
    "for _ in range(n):\n",
    "    goods.append(input())\n",
    "\n",
    "for i in goods:\n",
    "    print(i)"
   ]
  },
  {
   "cell_type": "markdown",
   "metadata": {},
   "source": [
    "5. Ххооллоодд"
   ]
  },
  {
   "cell_type": "code",
   "execution_count": 12,
   "metadata": {},
   "outputs": [
    {
     "name": "stdout",
     "output_type": "stream",
     "text": [
      "ххооллоодднноо\n"
     ]
    }
   ],
   "source": [
    "init = list(input())\n",
    "\n",
    "final = \"\"\n",
    "for i in init:\n",
    "    final += i*2\n",
    "print(final)"
   ]
  },
  {
   "cell_type": "markdown",
   "metadata": {},
   "source": [
    "6. Формальное приветствие"
   ]
  },
  {
   "cell_type": "code",
   "execution_count": 62,
   "metadata": {},
   "outputs": [
    {
     "name": "stdout",
     "output_type": "stream",
     "text": [
      "Здравствуйте, Иван Смирнов."
     ]
    }
   ],
   "source": [
    "name = input(\"Введите имя: \")\n",
    "last_name = input(\"Введите фамилию: \")\n",
    "\n",
    "print(\"Здравствуйте,\", name, last_name, end=\".\")"
   ]
  },
  {
   "cell_type": "markdown",
   "metadata": {},
   "source": [
    "7. Маленький колокольчик"
   ]
  },
  {
   "cell_type": "code",
   "execution_count": 1,
   "metadata": {},
   "outputs": [],
   "source": [
    "class LittleBell():\n",
    "    \n",
    "    def sound(self):\n",
    "        print(\"ding\")"
   ]
  },
  {
   "cell_type": "code",
   "execution_count": 2,
   "metadata": {},
   "outputs": [
    {
     "name": "stdout",
     "output_type": "stream",
     "text": [
      "ding\n",
      "ding\n",
      "ding\n"
     ]
    }
   ],
   "source": [
    "bell = LittleBell()\n",
    "bell.sound()\n",
    "bell.sound()\n",
    "bell.sound()"
   ]
  },
  {
   "cell_type": "markdown",
   "metadata": {},
   "source": [
    "8. Остаточные знания\n",
    "\n",
    "Проходила курс по основам программирования Python для синтетических биологов два года назад. Также в этом году ездила в Сириус на ДПП по дизайну белков, где мы использовали такие библиотеки, как numpy, pandas и matplotlib. Плохо знакома с ООП."
   ]
  }
 ],
 "metadata": {
  "kernelspec": {
   "display_name": "Python 3",
   "language": "python",
   "name": "python3"
  },
  "language_info": {
   "codemirror_mode": {
    "name": "ipython",
    "version": 3
   },
   "file_extension": ".py",
   "mimetype": "text/x-python",
   "name": "python",
   "nbconvert_exporter": "python",
   "pygments_lexer": "ipython3",
   "version": "3.9.13"
  }
 },
 "nbformat": 4,
 "nbformat_minor": 2
}
