{
 "cells": [
  {
   "cell_type": "code",
   "execution_count": 59,
   "metadata": {},
   "outputs": [],
   "source": [
    "import numpy as np\n",
    "\n",
    "\n",
    "class Pupa:\n",
    "    count = 0\n",
    "\n",
    "    def __init__(self) -> None:\n",
    "        self.name = \"Pupa\"\n",
    "\n",
    "    def do_work(self, spisok1: list, spisok2: list) -> None:\n",
    "        self.spisok1 = np.array(spisok1)\n",
    "        self.spisok2 = np.array(spisok2)\n",
    "        print(f\"Result of Pupa's work: {self.spisok1 + self.spisok2}\")\n",
    "\n",
    "    def take_salary(self) -> None:\n",
    "        Pupa.count += np.sum(abs(self.spisok1 + self.spisok2)) * 1000\n",
    "        print(f'Salary of Pupa is {Pupa.count} coins')\n",
    "\n",
    "class Lupa:\n",
    "    count = 0\n",
    "\n",
    "    def __init__(self) -> None:\n",
    "        self.name = \"Lupa\"\n",
    "\n",
    "    def do_work(self, spisok1: list, spisok2: list) -> None:\n",
    "        self.spisok1 = np.array(spisok1)\n",
    "        self.spisok2 = np.array(spisok2)\n",
    "        print(f\"Result of Lupa's work: {self.spisok1 - self.spisok2}\")\n",
    "\n",
    "    def take_salary(self) -> None:\n",
    "        Lupa.count += np.sum(abs(self.spisok1 - self.spisok2)) * 1000\n",
    "        print(f'Salary of Lupa is {Lupa.count} coins')\n",
    "\n",
    "class Accountant:\n",
    "    \n",
    "    def give_salary(self, worker) -> int:\n",
    "        try:\n",
    "            return worker.take_salary()\n",
    "        except:\n",
    "            print(f\"Salary of {worker.name} is 0 coins\")"
   ]
  },
  {
   "cell_type": "code",
   "execution_count": 60,
   "metadata": {},
   "outputs": [],
   "source": [
    "accountant = Accountant()\n",
    "pupa = Pupa()\n",
    "lupa = Lupa()"
   ]
  },
  {
   "cell_type": "code",
   "execution_count": 61,
   "metadata": {},
   "outputs": [
    {
     "name": "stdout",
     "output_type": "stream",
     "text": [
      "Result of Pupa's work: [-3  3 13  4]\n"
     ]
    }
   ],
   "source": [
    "pupa.do_work([1,3,6,4],[-4,0,7,0])"
   ]
  },
  {
   "cell_type": "code",
   "execution_count": 62,
   "metadata": {},
   "outputs": [
    {
     "name": "stdout",
     "output_type": "stream",
     "text": [
      "Result of Lupa's work: [ 5  3 -1  4]\n"
     ]
    }
   ],
   "source": [
    "lupa.do_work([1,3,6,4],[-4,0,7,0])"
   ]
  },
  {
   "cell_type": "code",
   "execution_count": 63,
   "metadata": {},
   "outputs": [
    {
     "name": "stdout",
     "output_type": "stream",
     "text": [
      "Salary of Pupa is 23000 coins\n",
      "Salary of Lupa is 13000 coins\n"
     ]
    }
   ],
   "source": [
    "accountant.give_salary(pupa)\n",
    "accountant.give_salary(lupa)"
   ]
  }
 ],
 "metadata": {
  "kernelspec": {
   "display_name": "Python 3",
   "language": "python",
   "name": "python3"
  },
  "language_info": {
   "codemirror_mode": {
    "name": "ipython",
    "version": 3
   },
   "file_extension": ".py",
   "mimetype": "text/x-python",
   "name": "python",
   "nbconvert_exporter": "python",
   "pygments_lexer": "ipython3",
   "version": "3.9.13"
  }
 },
 "nbformat": 4,
 "nbformat_minor": 2
}
