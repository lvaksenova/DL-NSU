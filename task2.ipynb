{
 "cells": [
  {
   "cell_type": "markdown",
   "metadata": {},
   "source": [
    "1. Сортировка в обратном порядке"
   ]
  },
  {
   "cell_type": "code",
   "execution_count": 8,
   "metadata": {},
   "outputs": [
    {
     "name": "stdout",
     "output_type": "stream",
     "text": [
      "['9', '8', '6', '3', '2']\n"
     ]
    }
   ],
   "source": [
    "n = int(input())\n",
    "strs = []\n",
    "for _ in range(n):\n",
    "    strs.append(input())\n",
    "\n",
    "strs.sort()\n",
    "strs.reverse()\n",
    "print(strs)"
   ]
  },
  {
   "cell_type": "markdown",
   "metadata": {},
   "source": [
    "2. Фильтр"
   ]
  },
  {
   "cell_type": "code",
   "execution_count": 33,
   "metadata": {},
   "outputs": [
    {
     "name": "stdout",
     "output_type": "stream",
     "text": [
      "['SVO TRS 29481292', 'LJPZ DME 11113283675']\n"
     ]
    }
   ],
   "source": [
    "n = int(input())\n",
    "strs = []\n",
    "for _ in range(n):\n",
    "    strs.append(input())\n",
    "\n",
    "for i in range(len(strs)):\n",
    "    if strs[i][0:2] == \"%%\":\n",
    "        strs[i] = strs[i].replace(\"%%\", \"\")\n",
    "    if strs[i][0:3] == \"###\":\n",
    "        strs.remove(strs[i])\n",
    "print(strs)"
   ]
  },
  {
   "cell_type": "markdown",
   "metadata": {},
   "source": [
    "3. От и до"
   ]
  },
  {
   "cell_type": "code",
   "execution_count": 2,
   "metadata": {},
   "outputs": [],
   "source": [
    "n = int(input())\n",
    "strs = []\n",
    "for _ in range(n):\n",
    "    strs.append(int(input()))\n",
    "p = int(input())\n",
    "q = int(input())\n"
   ]
  },
  {
   "cell_type": "code",
   "execution_count": 5,
   "metadata": {},
   "outputs": [
    {
     "name": "stdout",
     "output_type": "stream",
     "text": [
      "966\n"
     ]
    }
   ],
   "source": [
    "sum = 0\n",
    "n = 0\n",
    "for i in strs:\n",
    "    n += 1\n",
    "    if n >= p and n <= q:\n",
    "        sum += i\n",
    "print(sum)"
   ]
  },
  {
   "cell_type": "markdown",
   "metadata": {},
   "source": [
    "4. Список отличников"
   ]
  },
  {
   "cell_type": "code",
   "execution_count": 45,
   "metadata": {},
   "outputs": [],
   "source": [
    "students_grades = input(\"Введите фамилии учеников и их оценку: \")\n",
    "count = int(input(\"Введите количество свободных мест: \"))"
   ]
  },
  {
   "cell_type": "code",
   "execution_count": 46,
   "metadata": {},
   "outputs": [],
   "source": [
    "def Artek(s, n):\n",
    "    students = dict((k.strip(), v.strip()) for k,v in \n",
    "              (item.split( ) for item in s.split(',')))\n",
    "    grade = \"5\"\n",
    "\n",
    "    honor_students = [key for key, value in students.items() if value == grade]\n",
    "    honor_students.sort()\n",
    "    print(honor_students[:n])"
   ]
  },
  {
   "cell_type": "code",
   "execution_count": 47,
   "metadata": {},
   "outputs": [
    {
     "name": "stdout",
     "output_type": "stream",
     "text": [
      "['Вдовиченко', 'Кац', 'Смирнова']\n"
     ]
    }
   ],
   "source": [
    "Artek(students_grades, count)"
   ]
  },
  {
   "cell_type": "markdown",
   "metadata": {},
   "source": [
    "5. Пароль"
   ]
  },
  {
   "cell_type": "code",
   "execution_count": 112,
   "metadata": {},
   "outputs": [],
   "source": [
    "import re\n",
    "\n",
    "\n",
    "def password_level(password):\n",
    "    if len(password) <= 7:\n",
    "        print(\"Недопустимый пароль\")\n",
    "    elif ((password.islower() or password.isupper()) and not re.search('[\\d]', password)) or password.isdigit():\n",
    "        print(\"Ненадежный пароль\")\n",
    "    elif re.search(\"^[a-zA-Z\\d]+$\", password):\n",
    "        print(\"Слабый пароль\")\n",
    "    elif re.search(\"[@#$%&*().,-_+]+\", password):\n",
    "        print(\"Надежный пароль\")"
   ]
  },
  {
   "cell_type": "code",
   "execution_count": 113,
   "metadata": {},
   "outputs": [
    {
     "name": "stdout",
     "output_type": "stream",
     "text": [
      "Верно!\n",
      "Надежный пароль\n"
     ]
    }
   ],
   "source": [
    "password = input(\"Введите пароль: \")\n",
    "while True:\n",
    "    password2 = input(\"Подтвердите пароль: \")\n",
    "    if password == password2:\n",
    "        print(\"Верно!\")\n",
    "        break\n",
    "    else: \n",
    "        print(\"Пароли совпадают\")\n",
    "        continue\n",
    "\n",
    "password_level(password)"
   ]
  }
 ],
 "metadata": {
  "kernelspec": {
   "display_name": "Python 3",
   "language": "python",
   "name": "python3"
  },
  "language_info": {
   "codemirror_mode": {
    "name": "ipython",
    "version": 3
   },
   "file_extension": ".py",
   "mimetype": "text/x-python",
   "name": "python",
   "nbconvert_exporter": "python",
   "pygments_lexer": "ipython3",
   "version": "3.9.13"
  }
 },
 "nbformat": 4,
 "nbformat_minor": 2
}
